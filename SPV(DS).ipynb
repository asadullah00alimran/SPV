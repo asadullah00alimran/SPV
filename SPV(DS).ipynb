{
  "nbformat": 4,
  "nbformat_minor": 0,
  "metadata": {
    "colab": {
      "name": "SPV(DS).ipynb",
      "provenance": [],
      "authorship_tag": "ABX9TyMh66aNqDPn2Mz9srfPfLGJ",
      "include_colab_link": true
    },
    "kernelspec": {
      "name": "python3",
      "display_name": "Python 3"
    },
    "language_info": {
      "name": "python"
    }
  },
  "cells": [
    {
      "cell_type": "markdown",
      "metadata": {
        "id": "view-in-github",
        "colab_type": "text"
      },
      "source": [
        "<a href=\"https://colab.research.google.com/github/asadullah00alimran/SPV/blob/main/SPV(DS).ipynb\" target=\"_parent\"><img src=\"https://colab.research.google.com/assets/colab-badge.svg\" alt=\"Open In Colab\"/></a>"
      ]
    },
    {
      "cell_type": "code",
      "metadata": {
        "id": "meZ4nKraek5G"
      },
      "source": [
        "import pandas as pd\n",
        "import seaborn as sms"
      ],
      "execution_count": null,
      "outputs": []
    },
    {
      "cell_type": "code",
      "metadata": {
        "id": "mDWr0CM2e0fl"
      },
      "source": [
        "data_set = pd.read_csv(\"https://raw.githubusercontent.com/razan111/Project_2/master/spv/CustomerProfileData1.csv\")\n",
        "data_set"
      ],
      "execution_count": null,
      "outputs": []
    },
    {
      "cell_type": "code",
      "metadata": {
        "id": "VWKAIqe_e6hL"
      },
      "source": [
        "data_set.head()"
      ],
      "execution_count": null,
      "outputs": []
    },
    {
      "cell_type": "code",
      "metadata": {
        "id": "-ZfYxlHUfIbU"
      },
      "source": [
        "sms.countplot(x='Age Group',data = data_set)\n",
        "data_set['Age Group'].value_counts()"
      ],
      "execution_count": null,
      "outputs": []
    },
    {
      "cell_type": "code",
      "metadata": {
        "id": "KiS_xZSSf5CL"
      },
      "source": [
        "data_set[data_set['Age']>50]"
      ],
      "execution_count": null,
      "outputs": []
    },
    {
      "cell_type": "code",
      "metadata": {
        "id": "bKwVP9k4gF8K"
      },
      "source": [
        "data_set['Age']>50"
      ],
      "execution_count": null,
      "outputs": []
    },
    {
      "cell_type": "code",
      "metadata": {
        "id": "EmPO7sEygO92"
      },
      "source": [
        "data_set = data_set.rename(columns={\"Age\" : \"Age(years)\"})\n",
        "data_set"
      ],
      "execution_count": null,
      "outputs": []
    },
    {
      "cell_type": "code",
      "metadata": {
        "id": "JlXv2TYjgWhH"
      },
      "source": [
        "data_set.drop_duplicates(inplace=True)\n",
        "data_set"
      ],
      "execution_count": null,
      "outputs": []
    },
    {
      "cell_type": "code",
      "metadata": {
        "id": "HkUlsAgagjjP"
      },
      "source": [
        "#Manipulating Data\n",
        "data_set[\"City\"]= data_set[\"City\"].str.lower()\n",
        "data_set"
      ],
      "execution_count": null,
      "outputs": []
    },
    {
      "cell_type": "code",
      "metadata": {
        "id": "8d_jeOX1gvh_"
      },
      "source": [
        "# series is a 1-D array\n",
        "\n",
        "Customers_name = pd.Series([\"Razan Sarker\", \"Shama Saha\", \"Mim\", \"Nag\",\"Imran\"])\n",
        "Customers_country = pd.Series([\"Bangladesh\", \"Uganda\", \"Nigeria\", \"Somalia\", \"Zimbabwe\"])"
      ],
      "execution_count": null,
      "outputs": []
    },
    {
      "cell_type": "code",
      "metadata": {
        "id": "KJPUsNmfg8C8"
      },
      "source": [
        "Customers_name"
      ],
      "execution_count": null,
      "outputs": []
    },
    {
      "cell_type": "code",
      "metadata": {
        "id": "Ij-DN7SQhFCF"
      },
      "source": [
        "Customers_country"
      ],
      "execution_count": null,
      "outputs": []
    },
    {
      "cell_type": "code",
      "metadata": {
        "id": "K0NUQjTQhKQe"
      },
      "source": [
        "Customers_data = pd.DataFrame({\"Name\":Customers_name, \"Country\":Customers_country})\n",
        "Customers_data"
      ],
      "execution_count": null,
      "outputs": []
    },
    {
      "cell_type": "code",
      "metadata": {
        "id": "5trMlV7RhOnk"
      },
      "source": [
        "data_set.dtypes"
      ],
      "execution_count": null,
      "outputs": []
    },
    {
      "cell_type": "code",
      "metadata": {
        "id": "I1LKkxz3hZ4F"
      },
      "source": [
        "data_set.columns"
      ],
      "execution_count": null,
      "outputs": []
    },
    {
      "cell_type": "code",
      "metadata": {
        "id": "8Q1Ggn71hmQV"
      },
      "source": [
        "data_set.index"
      ],
      "execution_count": null,
      "outputs": []
    },
    {
      "cell_type": "code",
      "metadata": {
        "id": "BfboQAHOhpuN"
      },
      "source": [
        "data_set.describe()"
      ],
      "execution_count": null,
      "outputs": []
    },
    {
      "cell_type": "code",
      "metadata": {
        "id": "Kiq7b-mxhv3W"
      },
      "source": [
        "data_set.info()"
      ],
      "execution_count": null,
      "outputs": []
    },
    {
      "cell_type": "code",
      "metadata": {
        "id": "B-xbBmX0h1cE"
      },
      "source": [
        "data_set.mean()"
      ],
      "execution_count": null,
      "outputs": []
    },
    {
      "cell_type": "code",
      "metadata": {
        "id": "Ll2OVp_Gh6HR"
      },
      "source": [
        "data_set.groupby(['State']).mean()"
      ],
      "execution_count": null,
      "outputs": []
    },
    {
      "cell_type": "code",
      "metadata": {
        "id": "IY2uDCDpiK2p"
      },
      "source": [
        "Customers_wage = pd.Series([100.9, 55, 120.5])\n",
        "Customers_wage.mean()"
      ],
      "execution_count": null,
      "outputs": []
    },
    {
      "cell_type": "code",
      "metadata": {
        "id": "4tHQgS5MiPfq"
      },
      "source": [
        "data_set[\"Age(years)\"].sum()"
      ],
      "execution_count": null,
      "outputs": []
    },
    {
      "cell_type": "code",
      "metadata": {
        "id": "LGeE_hy3iSSK"
      },
      "source": [
        "pd.crosstab(Customers_name, Customers_country)"
      ],
      "execution_count": null,
      "outputs": []
    },
    {
      "cell_type": "code",
      "metadata": {
        "id": "qj39CZMXiUvP",
        "colab": {
          "base_uri": "https://localhost:8080/",
          "height": 283
        },
        "outputId": "2920d1e4-a0a7-43cb-b303-c455dacc5859"
      },
      "source": [
        "# plotting Data \n",
        "\n",
        "data_set[\"PostalCode\"].plot()"
      ],
      "execution_count": null,
      "outputs": [
        {
          "output_type": "execute_result",
          "data": {
            "text/plain": [
              "<matplotlib.axes._subplots.AxesSubplot at 0x7fdfd27208d0>"
            ]
          },
          "metadata": {
            "tags": []
          },
          "execution_count": 40
        },
        {
          "output_type": "display_data",
          "data": {
            "image/png": "[encoded data removed]",
            "text/plain": [
              "<Figure size 432x288 with 1 Axes>"
            ]
          },
          "metadata": {
            "tags": [],
            "needs_background": "light"
          }
        }
      ]
    },
    {
      "cell_type": "code",
      "metadata": {
        "id": "YN1hea-liWO_",
        "colab": {
          "base_uri": "https://localhost:8080/",
          "height": 283
        },
        "outputId": "c9f37daa-61d0-4648-a280-96b6d5076a9a"
      },
      "source": [
        "data_set[\"PostalCode\"].hist()"
      ],
      "execution_count": null,
      "outputs": [
        {
          "output_type": "execute_result",
          "data": {
            "text/plain": [
              "<matplotlib.axes._subplots.AxesSubplot at 0x7fdfd2993bd0>"
            ]
          },
          "metadata": {
            "tags": []
          },
          "execution_count": 41
        },
        {
          "output_type": "display_data",
          "data": {
            "image/png": "[encoded data removed]",
            "text/plain": [
              "<Figure size 432x288 with 1 Axes>"
            ]
          },
          "metadata": {
            "tags": [],
            "needs_background": "light"
          }
        }
      ]
    },
    {
      "cell_type": "code",
      "metadata": {
        "id": "3oWyjF3wiarN",
        "colab": {
          "base_uri": "https://localhost:8080/",
          "height": 283
        },
        "outputId": "97f69945-7f20-4be2-922e-551ac83f4b01"
      },
      "source": [
        "data_set[\"Age(years)\"].plot()"
      ],
      "execution_count": null,
      "outputs": [
        {
          "output_type": "execute_result",
          "data": {
            "text/plain": [
              "<matplotlib.axes._subplots.AxesSubplot at 0x7fdfd449abd0>"
            ]
          },
          "metadata": {
            "tags": []
          },
          "execution_count": 43
        },
        {
          "output_type": "display_data",
          "data": {
            "image/png": "[encoded data removed]",
            "text/plain": [
              "<Figure size 432x288 with 1 Axes>"
            ]
          },
          "metadata": {
            "tags": [],
            "needs_background": "light"
          }
        }
      ]
    },
    {
      "cell_type": "code",
      "metadata": {
        "id": "L-ArXwbEicM7",
        "colab": {
          "base_uri": "https://localhost:8080/",
          "height": 283
        },
        "outputId": "facf60d4-0f67-45ea-e855-42d55395a9c5"
      },
      "source": [
        "data_set[\"Age(years)\"].hist()"
      ],
      "execution_count": null,
      "outputs": [
        {
          "output_type": "execute_result",
          "data": {
            "text/plain": [
              "<matplotlib.axes._subplots.AxesSubplot at 0x7fdfd258b4d0>"
            ]
          },
          "metadata": {
            "tags": []
          },
          "execution_count": 45
        },
        {
          "output_type": "display_data",
          "data": {
            "image/png": "[encoded data removed]",
            "text/plain": [
              "<Figure size 432x288 with 1 Axes>"
            ]
          },
          "metadata": {
            "tags": [],
            "needs_background": "light"
          }
        }
      ]
    },
    {
      "cell_type": "code",
      "metadata": {
        "id": "w_Nn5l5_ifvL",
        "colab": {
          "base_uri": "https://localhost:8080/",
          "height": 779
        },
        "outputId": "b8c7b8db-d853-4b80-8186-78354c4067ca"
      },
      "source": [
        "df_missing = pd.read_csv(\"https://raw.githubusercontent.com/razan111/Project_2/master/spv/CustomerProfileData1-missing.csv\")\n",
        "df_missing"
      ],
      "execution_count": null,
      "outputs": [
        {
          "output_type": "execute_result",
          "data": {
            "text/html": [
              "<div>\n",
              "<style scoped>\n",
              "    .dataframe tbody tr th:only-of-type {\n",
              "        vertical-align: middle;\n",
              "    }\n",
              "\n",
              "    .dataframe tbody tr th {\n",
              "        vertical-align: top;\n",
              "    }\n",
              "\n",
              "    .dataframe thead th {\n",
              "        text-align: right;\n",
              "    }\n",
              "</style>\n",
              "<table border=\"1\" class=\"dataframe\">\n",
              "  <thead>\n",
              "    <tr style=\"text-align: right;\">\n",
              "      <th></th>\n",
              "      <th>Column1</th>\n",
              "      <th>Type</th>\n",
              "      <th>Status</th>\n",
              "      <th>City</th>\n",
              "      <th>State</th>\n",
              "      <th>PostalCode</th>\n",
              "      <th>GenderCode</th>\n",
              "      <th>BirthDate</th>\n",
              "      <th>MaritalStatus</th>\n",
              "      <th>Enrolled on</th>\n",
              "      <th>Living status</th>\n",
              "    </tr>\n",
              "  </thead>\n",
              "  <tbody>\n",
              "    <tr>\n",
              "      <th>0</th>\n",
              "      <td>00005DCC-4E51-41A5-91C5-6635B24C7D17</td>\n",
              "      <td>Business</td>\n",
              "      <td>InActive</td>\n",
              "      <td>NaN</td>\n",
              "      <td>NaN</td>\n",
              "      <td>500024.0</td>\n",
              "      <td>MALE</td>\n",
              "      <td>12-Aug-18</td>\n",
              "      <td>U</td>\n",
              "      <td>12-Aug-18</td>\n",
              "      <td>couple with children</td>\n",
              "    </tr>\n",
              "    <tr>\n",
              "      <th>1</th>\n",
              "      <td>0001F49E-9FE7-11e8-9E9C-00505682069A</td>\n",
              "      <td>Individual</td>\n",
              "      <td>Active</td>\n",
              "      <td>Valsad</td>\n",
              "      <td>GUJARAT</td>\n",
              "      <td>396001.0</td>\n",
              "      <td>MALE</td>\n",
              "      <td>2-Nov-92</td>\n",
              "      <td>M</td>\n",
              "      <td>14-Aug-18</td>\n",
              "      <td>couple with children</td>\n",
              "    </tr>\n",
              "    <tr>\n",
              "      <th>2</th>\n",
              "      <td>0001F4A2-9FE7-11e8-9E9C-00505682069A</td>\n",
              "      <td>Individual</td>\n",
              "      <td>Active</td>\n",
              "      <td>Secunderabad</td>\n",
              "      <td>TELANGANA</td>\n",
              "      <td>500011.0</td>\n",
              "      <td>FEMALE</td>\n",
              "      <td>25-Nov-88</td>\n",
              "      <td>M</td>\n",
              "      <td>14-Aug-18</td>\n",
              "      <td>couple with children</td>\n",
              "    </tr>\n",
              "    <tr>\n",
              "      <th>3</th>\n",
              "      <td>0001F4CD-9FE7-11e8-9E9C-00505682069A</td>\n",
              "      <td>Individual</td>\n",
              "      <td>Active</td>\n",
              "      <td>Nalgonda</td>\n",
              "      <td>TELANGANA</td>\n",
              "      <td>508101.0</td>\n",
              "      <td>MALE</td>\n",
              "      <td>13-Jun-83</td>\n",
              "      <td>M</td>\n",
              "      <td>14-Aug-18</td>\n",
              "      <td>couple with children</td>\n",
              "    </tr>\n",
              "    <tr>\n",
              "      <th>4</th>\n",
              "      <td>0001F4DE-9FE7-11e8-9E9C-00505682069A</td>\n",
              "      <td>Individual</td>\n",
              "      <td>Active</td>\n",
              "      <td>Hyderabad</td>\n",
              "      <td>TELANGANA</td>\n",
              "      <td>500028.0</td>\n",
              "      <td>MALE</td>\n",
              "      <td>13-Jul-75</td>\n",
              "      <td>M</td>\n",
              "      <td>14-Aug-18</td>\n",
              "      <td>couple with children</td>\n",
              "    </tr>\n",
              "    <tr>\n",
              "      <th>...</th>\n",
              "      <td>...</td>\n",
              "      <td>...</td>\n",
              "      <td>...</td>\n",
              "      <td>...</td>\n",
              "      <td>...</td>\n",
              "      <td>...</td>\n",
              "      <td>...</td>\n",
              "      <td>...</td>\n",
              "      <td>...</td>\n",
              "      <td>...</td>\n",
              "      <td>...</td>\n",
              "    </tr>\n",
              "    <tr>\n",
              "      <th>9995</th>\n",
              "      <td>0476D7F9-6B51-11e8-B278-0050569D3164</td>\n",
              "      <td>Individual</td>\n",
              "      <td>Active</td>\n",
              "      <td>Hyderabad</td>\n",
              "      <td>Telangana</td>\n",
              "      <td>500032.0</td>\n",
              "      <td>MALE</td>\n",
              "      <td>3-Jul-97</td>\n",
              "      <td>M</td>\n",
              "      <td>9-Jun-18</td>\n",
              "      <td>Couple without children</td>\n",
              "    </tr>\n",
              "    <tr>\n",
              "      <th>9996</th>\n",
              "      <td>0476D7FD-6B51-11e8-B278-0050569D3164</td>\n",
              "      <td>Individual</td>\n",
              "      <td>Active</td>\n",
              "      <td>Hyderabad</td>\n",
              "      <td>ANDHRA PRADESH</td>\n",
              "      <td>500002.0</td>\n",
              "      <td>MALE</td>\n",
              "      <td>24-May-80</td>\n",
              "      <td>M</td>\n",
              "      <td>9-Jun-18</td>\n",
              "      <td>Couple without children</td>\n",
              "    </tr>\n",
              "    <tr>\n",
              "      <th>9997</th>\n",
              "      <td>0476D812-6B51-11e8-B278-0050569D3164</td>\n",
              "      <td>Individual</td>\n",
              "      <td>Active</td>\n",
              "      <td>Secunderabad</td>\n",
              "      <td>ANDHRA PRADESH</td>\n",
              "      <td>500080.0</td>\n",
              "      <td>FEMALE</td>\n",
              "      <td>22-Nov-84</td>\n",
              "      <td>M</td>\n",
              "      <td>9-Jun-18</td>\n",
              "      <td>Couple without children</td>\n",
              "    </tr>\n",
              "    <tr>\n",
              "      <th>9998</th>\n",
              "      <td>0476D81A-6B51-11e8-B278-0050569D3164</td>\n",
              "      <td>Individual</td>\n",
              "      <td>Active</td>\n",
              "      <td>Hyderabad City</td>\n",
              "      <td>ANDHRA PRADESH</td>\n",
              "      <td>500081.0</td>\n",
              "      <td>FEMALE</td>\n",
              "      <td>14-Jul-94</td>\n",
              "      <td>M</td>\n",
              "      <td>9-Jun-18</td>\n",
              "      <td>Couple without children</td>\n",
              "    </tr>\n",
              "    <tr>\n",
              "      <th>9999</th>\n",
              "      <td>0476D821-6B51-11e8-B278-0050569D3164</td>\n",
              "      <td>Individual</td>\n",
              "      <td>Active</td>\n",
              "      <td>Secunderabad</td>\n",
              "      <td>ANDHRA PRADESH</td>\n",
              "      <td>500090.0</td>\n",
              "      <td>MALE</td>\n",
              "      <td>9-Jul-77</td>\n",
              "      <td>M</td>\n",
              "      <td>9-Jun-18</td>\n",
              "      <td>Couple without children</td>\n",
              "    </tr>\n",
              "  </tbody>\n",
              "</table>\n",
              "<p>10000 rows × 11 columns</p>\n",
              "</div>"
            ],
            "text/plain": [
              "                                   Column1  ...            Living status\n",
              "0     00005DCC-4E51-41A5-91C5-6635B24C7D17  ...     couple with children\n",
              "1     0001F49E-9FE7-11e8-9E9C-00505682069A  ...     couple with children\n",
              "2     0001F4A2-9FE7-11e8-9E9C-00505682069A  ...     couple with children\n",
              "3     0001F4CD-9FE7-11e8-9E9C-00505682069A  ...     couple with children\n",
              "4     0001F4DE-9FE7-11e8-9E9C-00505682069A  ...     couple with children\n",
              "...                                    ...  ...                      ...\n",
              "9995  0476D7F9-6B51-11e8-B278-0050569D3164  ...  Couple without children\n",
              "9996  0476D7FD-6B51-11e8-B278-0050569D3164  ...  Couple without children\n",
              "9997  0476D812-6B51-11e8-B278-0050569D3164  ...  Couple without children\n",
              "9998  0476D81A-6B51-11e8-B278-0050569D3164  ...  Couple without children\n",
              "9999  0476D821-6B51-11e8-B278-0050569D3164  ...  Couple without children\n",
              "\n",
              "[10000 rows x 11 columns]"
            ]
          },
          "metadata": {
            "tags": []
          },
          "execution_count": 48
        }
      ]
    },
    {
      "cell_type": "code",
      "metadata": {
        "id": "sF4Y8PYWiijb",
        "colab": {
          "base_uri": "https://localhost:8080/",
          "height": 779
        },
        "outputId": "33cca4b8-d823-4333-d206-07024b7a2a8e"
      },
      "source": [
        "df_missing.dropna(inplace=True)\n",
        "df_missing"
      ],
      "execution_count": null,
      "outputs": [
        {
          "output_type": "execute_result",
          "data": {
            "text/html": [
              "<div>\n",
              "<style scoped>\n",
              "    .dataframe tbody tr th:only-of-type {\n",
              "        vertical-align: middle;\n",
              "    }\n",
              "\n",
              "    .dataframe tbody tr th {\n",
              "        vertical-align: top;\n",
              "    }\n",
              "\n",
              "    .dataframe thead th {\n",
              "        text-align: right;\n",
              "    }\n",
              "</style>\n",
              "<table border=\"1\" class=\"dataframe\">\n",
              "  <thead>\n",
              "    <tr style=\"text-align: right;\">\n",
              "      <th></th>\n",
              "      <th>Column1</th>\n",
              "      <th>Type</th>\n",
              "      <th>Status</th>\n",
              "      <th>City</th>\n",
              "      <th>State</th>\n",
              "      <th>PostalCode</th>\n",
              "      <th>GenderCode</th>\n",
              "      <th>BirthDate</th>\n",
              "      <th>MaritalStatus</th>\n",
              "      <th>Enrolled on</th>\n",
              "      <th>Living status</th>\n",
              "    </tr>\n",
              "  </thead>\n",
              "  <tbody>\n",
              "    <tr>\n",
              "      <th>1</th>\n",
              "      <td>0001F49E-9FE7-11e8-9E9C-00505682069A</td>\n",
              "      <td>Individual</td>\n",
              "      <td>Active</td>\n",
              "      <td>Valsad</td>\n",
              "      <td>GUJARAT</td>\n",
              "      <td>396001.0</td>\n",
              "      <td>MALE</td>\n",
              "      <td>2-Nov-92</td>\n",
              "      <td>M</td>\n",
              "      <td>14-Aug-18</td>\n",
              "      <td>couple with children</td>\n",
              "    </tr>\n",
              "    <tr>\n",
              "      <th>2</th>\n",
              "      <td>0001F4A2-9FE7-11e8-9E9C-00505682069A</td>\n",
              "      <td>Individual</td>\n",
              "      <td>Active</td>\n",
              "      <td>Secunderabad</td>\n",
              "      <td>TELANGANA</td>\n",
              "      <td>500011.0</td>\n",
              "      <td>FEMALE</td>\n",
              "      <td>25-Nov-88</td>\n",
              "      <td>M</td>\n",
              "      <td>14-Aug-18</td>\n",
              "      <td>couple with children</td>\n",
              "    </tr>\n",
              "    <tr>\n",
              "      <th>3</th>\n",
              "      <td>0001F4CD-9FE7-11e8-9E9C-00505682069A</td>\n",
              "      <td>Individual</td>\n",
              "      <td>Active</td>\n",
              "      <td>Nalgonda</td>\n",
              "      <td>TELANGANA</td>\n",
              "      <td>508101.0</td>\n",
              "      <td>MALE</td>\n",
              "      <td>13-Jun-83</td>\n",
              "      <td>M</td>\n",
              "      <td>14-Aug-18</td>\n",
              "      <td>couple with children</td>\n",
              "    </tr>\n",
              "    <tr>\n",
              "      <th>4</th>\n",
              "      <td>0001F4DE-9FE7-11e8-9E9C-00505682069A</td>\n",
              "      <td>Individual</td>\n",
              "      <td>Active</td>\n",
              "      <td>Hyderabad</td>\n",
              "      <td>TELANGANA</td>\n",
              "      <td>500028.0</td>\n",
              "      <td>MALE</td>\n",
              "      <td>13-Jul-75</td>\n",
              "      <td>M</td>\n",
              "      <td>14-Aug-18</td>\n",
              "      <td>couple with children</td>\n",
              "    </tr>\n",
              "    <tr>\n",
              "      <th>5</th>\n",
              "      <td>0001F51D-9FE7-11e8-9E9C-00505682069A</td>\n",
              "      <td>Individual</td>\n",
              "      <td>Active</td>\n",
              "      <td>Hyderabad</td>\n",
              "      <td>TELANGANA</td>\n",
              "      <td>500018.0</td>\n",
              "      <td>FEMALE</td>\n",
              "      <td>7-Aug-86</td>\n",
              "      <td>M</td>\n",
              "      <td>14-Aug-18</td>\n",
              "      <td>couple with children</td>\n",
              "    </tr>\n",
              "    <tr>\n",
              "      <th>...</th>\n",
              "      <td>...</td>\n",
              "      <td>...</td>\n",
              "      <td>...</td>\n",
              "      <td>...</td>\n",
              "      <td>...</td>\n",
              "      <td>...</td>\n",
              "      <td>...</td>\n",
              "      <td>...</td>\n",
              "      <td>...</td>\n",
              "      <td>...</td>\n",
              "      <td>...</td>\n",
              "    </tr>\n",
              "    <tr>\n",
              "      <th>9995</th>\n",
              "      <td>0476D7F9-6B51-11e8-B278-0050569D3164</td>\n",
              "      <td>Individual</td>\n",
              "      <td>Active</td>\n",
              "      <td>Hyderabad</td>\n",
              "      <td>Telangana</td>\n",
              "      <td>500032.0</td>\n",
              "      <td>MALE</td>\n",
              "      <td>3-Jul-97</td>\n",
              "      <td>M</td>\n",
              "      <td>9-Jun-18</td>\n",
              "      <td>Couple without children</td>\n",
              "    </tr>\n",
              "    <tr>\n",
              "      <th>9996</th>\n",
              "      <td>0476D7FD-6B51-11e8-B278-0050569D3164</td>\n",
              "      <td>Individual</td>\n",
              "      <td>Active</td>\n",
              "      <td>Hyderabad</td>\n",
              "      <td>ANDHRA PRADESH</td>\n",
              "      <td>500002.0</td>\n",
              "      <td>MALE</td>\n",
              "      <td>24-May-80</td>\n",
              "      <td>M</td>\n",
              "      <td>9-Jun-18</td>\n",
              "      <td>Couple without children</td>\n",
              "    </tr>\n",
              "    <tr>\n",
              "      <th>9997</th>\n",
              "      <td>0476D812-6B51-11e8-B278-0050569D3164</td>\n",
              "      <td>Individual</td>\n",
              "      <td>Active</td>\n",
              "      <td>Secunderabad</td>\n",
              "      <td>ANDHRA PRADESH</td>\n",
              "      <td>500080.0</td>\n",
              "      <td>FEMALE</td>\n",
              "      <td>22-Nov-84</td>\n",
              "      <td>M</td>\n",
              "      <td>9-Jun-18</td>\n",
              "      <td>Couple without children</td>\n",
              "    </tr>\n",
              "    <tr>\n",
              "      <th>9998</th>\n",
              "      <td>0476D81A-6B51-11e8-B278-0050569D3164</td>\n",
              "      <td>Individual</td>\n",
              "      <td>Active</td>\n",
              "      <td>Hyderabad City</td>\n",
              "      <td>ANDHRA PRADESH</td>\n",
              "      <td>500081.0</td>\n",
              "      <td>FEMALE</td>\n",
              "      <td>14-Jul-94</td>\n",
              "      <td>M</td>\n",
              "      <td>9-Jun-18</td>\n",
              "      <td>Couple without children</td>\n",
              "    </tr>\n",
              "    <tr>\n",
              "      <th>9999</th>\n",
              "      <td>0476D821-6B51-11e8-B278-0050569D3164</td>\n",
              "      <td>Individual</td>\n",
              "      <td>Active</td>\n",
              "      <td>Secunderabad</td>\n",
              "      <td>ANDHRA PRADESH</td>\n",
              "      <td>500090.0</td>\n",
              "      <td>MALE</td>\n",
              "      <td>9-Jul-77</td>\n",
              "      <td>M</td>\n",
              "      <td>9-Jun-18</td>\n",
              "      <td>Couple without children</td>\n",
              "    </tr>\n",
              "  </tbody>\n",
              "</table>\n",
              "<p>9874 rows × 11 columns</p>\n",
              "</div>"
            ],
            "text/plain": [
              "                                   Column1  ...            Living status\n",
              "1     0001F49E-9FE7-11e8-9E9C-00505682069A  ...     couple with children\n",
              "2     0001F4A2-9FE7-11e8-9E9C-00505682069A  ...     couple with children\n",
              "3     0001F4CD-9FE7-11e8-9E9C-00505682069A  ...     couple with children\n",
              "4     0001F4DE-9FE7-11e8-9E9C-00505682069A  ...     couple with children\n",
              "5     0001F51D-9FE7-11e8-9E9C-00505682069A  ...     couple with children\n",
              "...                                    ...  ...                      ...\n",
              "9995  0476D7F9-6B51-11e8-B278-0050569D3164  ...  Couple without children\n",
              "9996  0476D7FD-6B51-11e8-B278-0050569D3164  ...  Couple without children\n",
              "9997  0476D812-6B51-11e8-B278-0050569D3164  ...  Couple without children\n",
              "9998  0476D81A-6B51-11e8-B278-0050569D3164  ...  Couple without children\n",
              "9999  0476D821-6B51-11e8-B278-0050569D3164  ...  Couple without children\n",
              "\n",
              "[9874 rows x 11 columns]"
            ]
          },
          "metadata": {
            "tags": []
          },
          "execution_count": 49
        }
      ]
    },
    {
      "cell_type": "code",
      "metadata": {
        "id": "TEbJJ99ril2z",
        "colab": {
          "base_uri": "https://localhost:8080/",
          "height": 779
        },
        "outputId": "4682723e-4b46-412c-99ff-c6ffba740dc1"
      },
      "source": [
        "df_missing_shuffled = df_missing.sample(frac=1)\n",
        "df_missing_shuffled"
      ],
      "execution_count": null,
      "outputs": [
        {
          "output_type": "execute_result",
          "data": {
            "text/html": [
              "<div>\n",
              "<style scoped>\n",
              "    .dataframe tbody tr th:only-of-type {\n",
              "        vertical-align: middle;\n",
              "    }\n",
              "\n",
              "    .dataframe tbody tr th {\n",
              "        vertical-align: top;\n",
              "    }\n",
              "\n",
              "    .dataframe thead th {\n",
              "        text-align: right;\n",
              "    }\n",
              "</style>\n",
              "<table border=\"1\" class=\"dataframe\">\n",
              "  <thead>\n",
              "    <tr style=\"text-align: right;\">\n",
              "      <th></th>\n",
              "      <th>Column1</th>\n",
              "      <th>Type</th>\n",
              "      <th>Status</th>\n",
              "      <th>City</th>\n",
              "      <th>State</th>\n",
              "      <th>PostalCode</th>\n",
              "      <th>GenderCode</th>\n",
              "      <th>BirthDate</th>\n",
              "      <th>MaritalStatus</th>\n",
              "      <th>Enrolled on</th>\n",
              "      <th>Living status</th>\n",
              "    </tr>\n",
              "  </thead>\n",
              "  <tbody>\n",
              "    <tr>\n",
              "      <th>6704</th>\n",
              "      <td>0325382C-5203-11e9-8CB4-0050569973AB</td>\n",
              "      <td>Individual</td>\n",
              "      <td>Active</td>\n",
              "      <td>Secunderabad</td>\n",
              "      <td>TELANGANA</td>\n",
              "      <td>500010.0</td>\n",
              "      <td>FEMALE</td>\n",
              "      <td>11-Jan-91</td>\n",
              "      <td>M</td>\n",
              "      <td>29-Mar-19</td>\n",
              "      <td>Couple without children</td>\n",
              "    </tr>\n",
              "    <tr>\n",
              "      <th>9375</th>\n",
              "      <td>04372CBC-FB6A-11e9-82B0-005056991469</td>\n",
              "      <td>Individual</td>\n",
              "      <td>Active</td>\n",
              "      <td>Mumbai</td>\n",
              "      <td>MAHARASHTRA</td>\n",
              "      <td>400056.0</td>\n",
              "      <td>MALE</td>\n",
              "      <td>7-Feb-67</td>\n",
              "      <td>M</td>\n",
              "      <td>31-Oct-19</td>\n",
              "      <td>couple with children</td>\n",
              "    </tr>\n",
              "    <tr>\n",
              "      <th>5381</th>\n",
              "      <td>02681590-7EEF-11e9-AB50-0050569857FB</td>\n",
              "      <td>Individual</td>\n",
              "      <td>Active</td>\n",
              "      <td>Hyderabad</td>\n",
              "      <td>TELANGANA</td>\n",
              "      <td>500035.0</td>\n",
              "      <td>MALE</td>\n",
              "      <td>12-May-90</td>\n",
              "      <td>M</td>\n",
              "      <td>25-May-19</td>\n",
              "      <td>couple with children</td>\n",
              "    </tr>\n",
              "    <tr>\n",
              "      <th>8481</th>\n",
              "      <td>03DB4473-9B11-11e8-B594-0050568260A3</td>\n",
              "      <td>Individual</td>\n",
              "      <td>Active</td>\n",
              "      <td>Secunderabad</td>\n",
              "      <td>TELANGANA</td>\n",
              "      <td>500090.0</td>\n",
              "      <td>MALE</td>\n",
              "      <td>5-Dec-90</td>\n",
              "      <td>M</td>\n",
              "      <td>8-Aug-18</td>\n",
              "      <td>couple with children</td>\n",
              "    </tr>\n",
              "    <tr>\n",
              "      <th>878</th>\n",
              "      <td>006AF4FB-F390-11e9-967A-005056981C55</td>\n",
              "      <td>Individual</td>\n",
              "      <td>Active</td>\n",
              "      <td>Dhule</td>\n",
              "      <td>MAHARASHTRA</td>\n",
              "      <td>424001.0</td>\n",
              "      <td>MALE</td>\n",
              "      <td>11-Aug-98</td>\n",
              "      <td>M</td>\n",
              "      <td>21-Oct-19</td>\n",
              "      <td>couple with children</td>\n",
              "    </tr>\n",
              "    <tr>\n",
              "      <th>...</th>\n",
              "      <td>...</td>\n",
              "      <td>...</td>\n",
              "      <td>...</td>\n",
              "      <td>...</td>\n",
              "      <td>...</td>\n",
              "      <td>...</td>\n",
              "      <td>...</td>\n",
              "      <td>...</td>\n",
              "      <td>...</td>\n",
              "      <td>...</td>\n",
              "      <td>...</td>\n",
              "    </tr>\n",
              "    <tr>\n",
              "      <th>694</th>\n",
              "      <td>005D6D3C-DFA9-11e8-94FC-0050569953B7</td>\n",
              "      <td>Individual</td>\n",
              "      <td>Active</td>\n",
              "      <td>Delhi</td>\n",
              "      <td>DELHI</td>\n",
              "      <td>110092.0</td>\n",
              "      <td>MALE</td>\n",
              "      <td>12-Mar-92</td>\n",
              "      <td>M</td>\n",
              "      <td>3-Nov-18</td>\n",
              "      <td>Couple without children</td>\n",
              "    </tr>\n",
              "    <tr>\n",
              "      <th>8642</th>\n",
              "      <td>03EE1EC3-C3BE-11e9-8CD8-005056991469</td>\n",
              "      <td>Individual</td>\n",
              "      <td>Active</td>\n",
              "      <td>Hyderabad</td>\n",
              "      <td>TELANGANA</td>\n",
              "      <td>500081.0</td>\n",
              "      <td>MALE</td>\n",
              "      <td>6-May-97</td>\n",
              "      <td>M</td>\n",
              "      <td>21-Aug-19</td>\n",
              "      <td>couple with children</td>\n",
              "    </tr>\n",
              "    <tr>\n",
              "      <th>8750</th>\n",
              "      <td>03F13049-9894-11e8-B9A2-0050568252F9</td>\n",
              "      <td>Individual</td>\n",
              "      <td>Active</td>\n",
              "      <td>Hyderabad</td>\n",
              "      <td>TELANGANA</td>\n",
              "      <td>500013.0</td>\n",
              "      <td>FEMALE</td>\n",
              "      <td>4-Jun-92</td>\n",
              "      <td>M</td>\n",
              "      <td>5-Aug-18</td>\n",
              "      <td>Couple without children</td>\n",
              "    </tr>\n",
              "    <tr>\n",
              "      <th>1121</th>\n",
              "      <td>00825698-282A-11ea-9C7E-0050569953B7</td>\n",
              "      <td>Individual</td>\n",
              "      <td>Active</td>\n",
              "      <td>Mumbai</td>\n",
              "      <td>MAHARASHTRA</td>\n",
              "      <td>400705.0</td>\n",
              "      <td>MALE</td>\n",
              "      <td>27-Nov-55</td>\n",
              "      <td>M</td>\n",
              "      <td>27-Dec-19</td>\n",
              "      <td>Couple without children</td>\n",
              "    </tr>\n",
              "    <tr>\n",
              "      <th>2276</th>\n",
              "      <td>010F90D9-2054-11ea-B6AA-005056984FDD</td>\n",
              "      <td>Individual</td>\n",
              "      <td>Active</td>\n",
              "      <td>Mumbai</td>\n",
              "      <td>MAHARASHTRA</td>\n",
              "      <td>400020.0</td>\n",
              "      <td>MALE</td>\n",
              "      <td>22-Jul-81</td>\n",
              "      <td>M</td>\n",
              "      <td>17-Dec-19</td>\n",
              "      <td>Couple without children</td>\n",
              "    </tr>\n",
              "  </tbody>\n",
              "</table>\n",
              "<p>9874 rows × 11 columns</p>\n",
              "</div>"
            ],
            "text/plain": [
              "                                   Column1  ...            Living status\n",
              "6704  0325382C-5203-11e9-8CB4-0050569973AB  ...  Couple without children\n",
              "9375  04372CBC-FB6A-11e9-82B0-005056991469  ...     couple with children\n",
              "5381  02681590-7EEF-11e9-AB50-0050569857FB  ...     couple with children\n",
              "8481  03DB4473-9B11-11e8-B594-0050568260A3  ...     couple with children\n",
              "878   006AF4FB-F390-11e9-967A-005056981C55  ...     couple with children\n",
              "...                                    ...  ...                      ...\n",
              "694   005D6D3C-DFA9-11e8-94FC-0050569953B7  ...  Couple without children\n",
              "8642  03EE1EC3-C3BE-11e9-8CD8-005056991469  ...     couple with children\n",
              "8750  03F13049-9894-11e8-B9A2-0050568252F9  ...  Couple without children\n",
              "1121  00825698-282A-11ea-9C7E-0050569953B7  ...  Couple without children\n",
              "2276  010F90D9-2054-11ea-B6AA-005056984FDD  ...  Couple without children\n",
              "\n",
              "[9874 rows x 11 columns]"
            ]
          },
          "metadata": {
            "tags": []
          },
          "execution_count": 50
        }
      ]
    },
    {
      "cell_type": "code",
      "metadata": {
        "id": "efIyTsOvioW7",
        "colab": {
          "base_uri": "https://localhost:8080/",
          "height": 641
        },
        "outputId": "c0503003-b931-4cd1-ccc0-d7df8ca4e5c9"
      },
      "source": [
        "df_missing_shuffled.sample(frac=.3)"
      ],
      "execution_count": null,
      "outputs": [
        {
          "output_type": "execute_result",
          "data": {
            "text/html": [
              "<div>\n",
              "<style scoped>\n",
              "    .dataframe tbody tr th:only-of-type {\n",
              "        vertical-align: middle;\n",
              "    }\n",
              "\n",
              "    .dataframe tbody tr th {\n",
              "        vertical-align: top;\n",
              "    }\n",
              "\n",
              "    .dataframe thead th {\n",
              "        text-align: right;\n",
              "    }\n",
              "</style>\n",
              "<table border=\"1\" class=\"dataframe\">\n",
              "  <thead>\n",
              "    <tr style=\"text-align: right;\">\n",
              "      <th></th>\n",
              "      <th>Column1</th>\n",
              "      <th>Type</th>\n",
              "      <th>Status</th>\n",
              "      <th>City</th>\n",
              "      <th>State</th>\n",
              "      <th>PostalCode</th>\n",
              "      <th>GenderCode</th>\n",
              "      <th>BirthDate</th>\n",
              "      <th>MaritalStatus</th>\n",
              "      <th>Enrolled on</th>\n",
              "      <th>Living status</th>\n",
              "    </tr>\n",
              "  </thead>\n",
              "  <tbody>\n",
              "    <tr>\n",
              "      <th>8274</th>\n",
              "      <td>03C562EF-F36E-11e9-A928-0050569953B7</td>\n",
              "      <td>Individual</td>\n",
              "      <td>Active</td>\n",
              "      <td>Mumbai</td>\n",
              "      <td>MAHARASHTRA</td>\n",
              "      <td>400061.0</td>\n",
              "      <td>MALE</td>\n",
              "      <td>7-Sep-76</td>\n",
              "      <td>M</td>\n",
              "      <td>21-Oct-19</td>\n",
              "      <td>Couple without children</td>\n",
              "    </tr>\n",
              "    <tr>\n",
              "      <th>6109</th>\n",
              "      <td>02D066D5-B6C3-11e8-BD28-0050568252F9</td>\n",
              "      <td>Individual</td>\n",
              "      <td>Active</td>\n",
              "      <td>Hyderabad</td>\n",
              "      <td>TELANGANA</td>\n",
              "      <td>500028.0</td>\n",
              "      <td>MALE</td>\n",
              "      <td>2-Aug-79</td>\n",
              "      <td>M</td>\n",
              "      <td>12-Sep-18</td>\n",
              "      <td>couple with children</td>\n",
              "    </tr>\n",
              "    <tr>\n",
              "      <th>7368</th>\n",
              "      <td>037046F5-2597-11ea-81A4-0050569857FB</td>\n",
              "      <td>Individual</td>\n",
              "      <td>Active</td>\n",
              "      <td>Mumbai</td>\n",
              "      <td>MAHARASHTRA</td>\n",
              "      <td>400002.0</td>\n",
              "      <td>MALE</td>\n",
              "      <td>12-Jun-94</td>\n",
              "      <td>M</td>\n",
              "      <td>24-Dec-19</td>\n",
              "      <td>couple with children</td>\n",
              "    </tr>\n",
              "    <tr>\n",
              "      <th>1642</th>\n",
              "      <td>00C42034-B4C5-11e8-9238-0050568252F9</td>\n",
              "      <td>Individual</td>\n",
              "      <td>Active</td>\n",
              "      <td>Cuddapah</td>\n",
              "      <td>ANDHRA PRADESH</td>\n",
              "      <td>516269.0</td>\n",
              "      <td>MALE</td>\n",
              "      <td>1-Aug-00</td>\n",
              "      <td>M</td>\n",
              "      <td>10-Sep-18</td>\n",
              "      <td>couple with children</td>\n",
              "    </tr>\n",
              "    <tr>\n",
              "      <th>9310</th>\n",
              "      <td>04343056-9F96-11e8-A89C-0050568252F9</td>\n",
              "      <td>Individual</td>\n",
              "      <td>Active</td>\n",
              "      <td>Agra</td>\n",
              "      <td>UTTAR PRADESH</td>\n",
              "      <td>282007.0</td>\n",
              "      <td>MALE</td>\n",
              "      <td>14-Sep-96</td>\n",
              "      <td>M</td>\n",
              "      <td>14-Aug-18</td>\n",
              "      <td>couple with children</td>\n",
              "    </tr>\n",
              "    <tr>\n",
              "      <th>...</th>\n",
              "      <td>...</td>\n",
              "      <td>...</td>\n",
              "      <td>...</td>\n",
              "      <td>...</td>\n",
              "      <td>...</td>\n",
              "      <td>...</td>\n",
              "      <td>...</td>\n",
              "      <td>...</td>\n",
              "      <td>...</td>\n",
              "      <td>...</td>\n",
              "      <td>...</td>\n",
              "    </tr>\n",
              "    <tr>\n",
              "      <th>748</th>\n",
              "      <td>005E3911-F847-11e7-A450-0050568252F9</td>\n",
              "      <td>Individual</td>\n",
              "      <td>Active</td>\n",
              "      <td>Dhanbad</td>\n",
              "      <td>JHARKHAND</td>\n",
              "      <td>826001.0</td>\n",
              "      <td>FEMALE</td>\n",
              "      <td>3-Mar-80</td>\n",
              "      <td>M</td>\n",
              "      <td>13-Jan-18</td>\n",
              "      <td>Single/living alone</td>\n",
              "    </tr>\n",
              "    <tr>\n",
              "      <th>6511</th>\n",
              "      <td>03083C92-FF62-11e9-93A0-0050569953B7</td>\n",
              "      <td>Individual</td>\n",
              "      <td>Active</td>\n",
              "      <td>Mumbai</td>\n",
              "      <td>MAHARASHTRA</td>\n",
              "      <td>400050.0</td>\n",
              "      <td>MALE</td>\n",
              "      <td>20-Apr-83</td>\n",
              "      <td>M</td>\n",
              "      <td>5-Nov-19</td>\n",
              "      <td>couple with children</td>\n",
              "    </tr>\n",
              "    <tr>\n",
              "      <th>2150</th>\n",
              "      <td>00F90989-C8D9-11e9-B316-0050569953B7</td>\n",
              "      <td>Individual</td>\n",
              "      <td>Active</td>\n",
              "      <td>Mumbai</td>\n",
              "      <td>MAHARASHTRA</td>\n",
              "      <td>400052.0</td>\n",
              "      <td>MALE</td>\n",
              "      <td>5-Oct-66</td>\n",
              "      <td>M</td>\n",
              "      <td>27-Aug-19</td>\n",
              "      <td>couple with children</td>\n",
              "    </tr>\n",
              "    <tr>\n",
              "      <th>1101</th>\n",
              "      <td>007FEDB8-C773-11e9-9EE0-005056991469</td>\n",
              "      <td>Individual</td>\n",
              "      <td>Active</td>\n",
              "      <td>Secunderabad</td>\n",
              "      <td>TELANGANA</td>\n",
              "      <td>500049.0</td>\n",
              "      <td>MALE</td>\n",
              "      <td>14-May-88</td>\n",
              "      <td>M</td>\n",
              "      <td>26-Aug-19</td>\n",
              "      <td>Couple without children</td>\n",
              "    </tr>\n",
              "    <tr>\n",
              "      <th>7348</th>\n",
              "      <td>03704658-2597-11ea-81A4-0050569857FB</td>\n",
              "      <td>Individual</td>\n",
              "      <td>Active</td>\n",
              "      <td>Secunderabad</td>\n",
              "      <td>TELANGANA</td>\n",
              "      <td>500090.0</td>\n",
              "      <td>MALE</td>\n",
              "      <td>19-Aug-90</td>\n",
              "      <td>M</td>\n",
              "      <td>24-Dec-19</td>\n",
              "      <td>couple with children</td>\n",
              "    </tr>\n",
              "  </tbody>\n",
              "</table>\n",
              "<p>2962 rows × 11 columns</p>\n",
              "</div>"
            ],
            "text/plain": [
              "                                   Column1  ...            Living status\n",
              "8274  03C562EF-F36E-11e9-A928-0050569953B7  ...  Couple without children\n",
              "6109  02D066D5-B6C3-11e8-BD28-0050568252F9  ...     couple with children\n",
              "7368  037046F5-2597-11ea-81A4-0050569857FB  ...     couple with children\n",
              "1642  00C42034-B4C5-11e8-9238-0050568252F9  ...     couple with children\n",
              "9310  04343056-9F96-11e8-A89C-0050568252F9  ...     couple with children\n",
              "...                                    ...  ...                      ...\n",
              "748   005E3911-F847-11e7-A450-0050568252F9  ...      Single/living alone\n",
              "6511  03083C92-FF62-11e9-93A0-0050569953B7  ...     couple with children\n",
              "2150  00F90989-C8D9-11e9-B316-0050569953B7  ...     couple with children\n",
              "1101  007FEDB8-C773-11e9-9EE0-005056991469  ...  Couple without children\n",
              "7348  03704658-2597-11ea-81A4-0050569857FB  ...     couple with children\n",
              "\n",
              "[2962 rows x 11 columns]"
            ]
          },
          "metadata": {
            "tags": []
          },
          "execution_count": 51
        }
      ]
    },
    {
      "cell_type": "code",
      "metadata": {
        "id": "lZT-RMSLiqzr",
        "colab": {
          "base_uri": "https://localhost:8080/",
          "height": 779
        },
        "outputId": "6a1197f6-cde9-4db2-e489-ac0384971b3a"
      },
      "source": [
        "df_missing_shuffled.reset_index(inplace=True)\n",
        "df_missing_shuffled"
      ],
      "execution_count": null,
      "outputs": [
        {
          "output_type": "execute_result",
          "data": {
            "text/html": [
              "<div>\n",
              "<style scoped>\n",
              "    .dataframe tbody tr th:only-of-type {\n",
              "        vertical-align: middle;\n",
              "    }\n",
              "\n",
              "    .dataframe tbody tr th {\n",
              "        vertical-align: top;\n",
              "    }\n",
              "\n",
              "    .dataframe thead th {\n",
              "        text-align: right;\n",
              "    }\n",
              "</style>\n",
              "<table border=\"1\" class=\"dataframe\">\n",
              "  <thead>\n",
              "    <tr style=\"text-align: right;\">\n",
              "      <th></th>\n",
              "      <th>index</th>\n",
              "      <th>Column1</th>\n",
              "      <th>Type</th>\n",
              "      <th>Status</th>\n",
              "      <th>City</th>\n",
              "      <th>State</th>\n",
              "      <th>PostalCode</th>\n",
              "      <th>GenderCode</th>\n",
              "      <th>BirthDate</th>\n",
              "      <th>MaritalStatus</th>\n",
              "      <th>Enrolled on</th>\n",
              "      <th>Living status</th>\n",
              "    </tr>\n",
              "  </thead>\n",
              "  <tbody>\n",
              "    <tr>\n",
              "      <th>0</th>\n",
              "      <td>6704</td>\n",
              "      <td>0325382C-5203-11e9-8CB4-0050569973AB</td>\n",
              "      <td>Individual</td>\n",
              "      <td>Active</td>\n",
              "      <td>Secunderabad</td>\n",
              "      <td>TELANGANA</td>\n",
              "      <td>500010.0</td>\n",
              "      <td>FEMALE</td>\n",
              "      <td>11-Jan-91</td>\n",
              "      <td>M</td>\n",
              "      <td>29-Mar-19</td>\n",
              "      <td>Couple without children</td>\n",
              "    </tr>\n",
              "    <tr>\n",
              "      <th>1</th>\n",
              "      <td>9375</td>\n",
              "      <td>04372CBC-FB6A-11e9-82B0-005056991469</td>\n",
              "      <td>Individual</td>\n",
              "      <td>Active</td>\n",
              "      <td>Mumbai</td>\n",
              "      <td>MAHARASHTRA</td>\n",
              "      <td>400056.0</td>\n",
              "      <td>MALE</td>\n",
              "      <td>7-Feb-67</td>\n",
              "      <td>M</td>\n",
              "      <td>31-Oct-19</td>\n",
              "      <td>couple with children</td>\n",
              "    </tr>\n",
              "    <tr>\n",
              "      <th>2</th>\n",
              "      <td>5381</td>\n",
              "      <td>02681590-7EEF-11e9-AB50-0050569857FB</td>\n",
              "      <td>Individual</td>\n",
              "      <td>Active</td>\n",
              "      <td>Hyderabad</td>\n",
              "      <td>TELANGANA</td>\n",
              "      <td>500035.0</td>\n",
              "      <td>MALE</td>\n",
              "      <td>12-May-90</td>\n",
              "      <td>M</td>\n",
              "      <td>25-May-19</td>\n",
              "      <td>couple with children</td>\n",
              "    </tr>\n",
              "    <tr>\n",
              "      <th>3</th>\n",
              "      <td>8481</td>\n",
              "      <td>03DB4473-9B11-11e8-B594-0050568260A3</td>\n",
              "      <td>Individual</td>\n",
              "      <td>Active</td>\n",
              "      <td>Secunderabad</td>\n",
              "      <td>TELANGANA</td>\n",
              "      <td>500090.0</td>\n",
              "      <td>MALE</td>\n",
              "      <td>5-Dec-90</td>\n",
              "      <td>M</td>\n",
              "      <td>8-Aug-18</td>\n",
              "      <td>couple with children</td>\n",
              "    </tr>\n",
              "    <tr>\n",
              "      <th>4</th>\n",
              "      <td>878</td>\n",
              "      <td>006AF4FB-F390-11e9-967A-005056981C55</td>\n",
              "      <td>Individual</td>\n",
              "      <td>Active</td>\n",
              "      <td>Dhule</td>\n",
              "      <td>MAHARASHTRA</td>\n",
              "      <td>424001.0</td>\n",
              "      <td>MALE</td>\n",
              "      <td>11-Aug-98</td>\n",
              "      <td>M</td>\n",
              "      <td>21-Oct-19</td>\n",
              "      <td>couple with children</td>\n",
              "    </tr>\n",
              "    <tr>\n",
              "      <th>...</th>\n",
              "      <td>...</td>\n",
              "      <td>...</td>\n",
              "      <td>...</td>\n",
              "      <td>...</td>\n",
              "      <td>...</td>\n",
              "      <td>...</td>\n",
              "      <td>...</td>\n",
              "      <td>...</td>\n",
              "      <td>...</td>\n",
              "      <td>...</td>\n",
              "      <td>...</td>\n",
              "      <td>...</td>\n",
              "    </tr>\n",
              "    <tr>\n",
              "      <th>9869</th>\n",
              "      <td>694</td>\n",
              "      <td>005D6D3C-DFA9-11e8-94FC-0050569953B7</td>\n",
              "      <td>Individual</td>\n",
              "      <td>Active</td>\n",
              "      <td>Delhi</td>\n",
              "      <td>DELHI</td>\n",
              "      <td>110092.0</td>\n",
              "      <td>MALE</td>\n",
              "      <td>12-Mar-92</td>\n",
              "      <td>M</td>\n",
              "      <td>3-Nov-18</td>\n",
              "      <td>Couple without children</td>\n",
              "    </tr>\n",
              "    <tr>\n",
              "      <th>9870</th>\n",
              "      <td>8642</td>\n",
              "      <td>03EE1EC3-C3BE-11e9-8CD8-005056991469</td>\n",
              "      <td>Individual</td>\n",
              "      <td>Active</td>\n",
              "      <td>Hyderabad</td>\n",
              "      <td>TELANGANA</td>\n",
              "      <td>500081.0</td>\n",
              "      <td>MALE</td>\n",
              "      <td>6-May-97</td>\n",
              "      <td>M</td>\n",
              "      <td>21-Aug-19</td>\n",
              "      <td>couple with children</td>\n",
              "    </tr>\n",
              "    <tr>\n",
              "      <th>9871</th>\n",
              "      <td>8750</td>\n",
              "      <td>03F13049-9894-11e8-B9A2-0050568252F9</td>\n",
              "      <td>Individual</td>\n",
              "      <td>Active</td>\n",
              "      <td>Hyderabad</td>\n",
              "      <td>TELANGANA</td>\n",
              "      <td>500013.0</td>\n",
              "      <td>FEMALE</td>\n",
              "      <td>4-Jun-92</td>\n",
              "      <td>M</td>\n",
              "      <td>5-Aug-18</td>\n",
              "      <td>Couple without children</td>\n",
              "    </tr>\n",
              "    <tr>\n",
              "      <th>9872</th>\n",
              "      <td>1121</td>\n",
              "      <td>00825698-282A-11ea-9C7E-0050569953B7</td>\n",
              "      <td>Individual</td>\n",
              "      <td>Active</td>\n",
              "      <td>Mumbai</td>\n",
              "      <td>MAHARASHTRA</td>\n",
              "      <td>400705.0</td>\n",
              "      <td>MALE</td>\n",
              "      <td>27-Nov-55</td>\n",
              "      <td>M</td>\n",
              "      <td>27-Dec-19</td>\n",
              "      <td>Couple without children</td>\n",
              "    </tr>\n",
              "    <tr>\n",
              "      <th>9873</th>\n",
              "      <td>2276</td>\n",
              "      <td>010F90D9-2054-11ea-B6AA-005056984FDD</td>\n",
              "      <td>Individual</td>\n",
              "      <td>Active</td>\n",
              "      <td>Mumbai</td>\n",
              "      <td>MAHARASHTRA</td>\n",
              "      <td>400020.0</td>\n",
              "      <td>MALE</td>\n",
              "      <td>22-Jul-81</td>\n",
              "      <td>M</td>\n",
              "      <td>17-Dec-19</td>\n",
              "      <td>Couple without children</td>\n",
              "    </tr>\n",
              "  </tbody>\n",
              "</table>\n",
              "<p>9874 rows × 12 columns</p>\n",
              "</div>"
            ],
            "text/plain": [
              "      index  ...            Living status\n",
              "0      6704  ...  Couple without children\n",
              "1      9375  ...     couple with children\n",
              "2      5381  ...     couple with children\n",
              "3      8481  ...     couple with children\n",
              "4       878  ...     couple with children\n",
              "...     ...  ...                      ...\n",
              "9869    694  ...  Couple without children\n",
              "9870   8642  ...     couple with children\n",
              "9871   8750  ...  Couple without children\n",
              "9872   1121  ...  Couple without children\n",
              "9873   2276  ...  Couple without children\n",
              "\n",
              "[9874 rows x 12 columns]"
            ]
          },
          "metadata": {
            "tags": []
          },
          "execution_count": 52
        }
      ]
    },
    {
      "cell_type": "code",
      "metadata": {
        "id": "Tlg8hbwiiuk8",
        "colab": {
          "base_uri": "https://localhost:8080/",
          "height": 327
        },
        "outputId": "4a37fefb-cb9c-437a-c518-db754808f05c"
      },
      "source": [
        "df_missing.loc[[8,9,654,34]]"
      ],
      "execution_count": null,
      "outputs": [
        {
          "output_type": "execute_result",
          "data": {
            "text/html": [
              "<div>\n",
              "<style scoped>\n",
              "    .dataframe tbody tr th:only-of-type {\n",
              "        vertical-align: middle;\n",
              "    }\n",
              "\n",
              "    .dataframe tbody tr th {\n",
              "        vertical-align: top;\n",
              "    }\n",
              "\n",
              "    .dataframe thead th {\n",
              "        text-align: right;\n",
              "    }\n",
              "</style>\n",
              "<table border=\"1\" class=\"dataframe\">\n",
              "  <thead>\n",
              "    <tr style=\"text-align: right;\">\n",
              "      <th></th>\n",
              "      <th>Column1</th>\n",
              "      <th>Type</th>\n",
              "      <th>Status</th>\n",
              "      <th>City</th>\n",
              "      <th>State</th>\n",
              "      <th>PostalCode</th>\n",
              "      <th>GenderCode</th>\n",
              "      <th>BirthDate</th>\n",
              "      <th>MaritalStatus</th>\n",
              "      <th>Enrolled on</th>\n",
              "      <th>Living status</th>\n",
              "    </tr>\n",
              "  </thead>\n",
              "  <tbody>\n",
              "    <tr>\n",
              "      <th>8</th>\n",
              "      <td>0001F548-9FE7-11e8-9E9C-00505682069A</td>\n",
              "      <td>Individual</td>\n",
              "      <td>Active</td>\n",
              "      <td>Hyderabad</td>\n",
              "      <td>TELANGANA</td>\n",
              "      <td>500064.0</td>\n",
              "      <td>FEMALE</td>\n",
              "      <td>20-Jun-77</td>\n",
              "      <td>M</td>\n",
              "      <td>14-Aug-18</td>\n",
              "      <td>couple with children</td>\n",
              "    </tr>\n",
              "    <tr>\n",
              "      <th>9</th>\n",
              "      <td>0001F549-9FE7-11e8-9E9C-00505682069A</td>\n",
              "      <td>Individual</td>\n",
              "      <td>Active</td>\n",
              "      <td>Guntur</td>\n",
              "      <td>ANDHRA PRADESH</td>\n",
              "      <td>522006.0</td>\n",
              "      <td>MALE</td>\n",
              "      <td>23-Jul-75</td>\n",
              "      <td>M</td>\n",
              "      <td>14-Aug-18</td>\n",
              "      <td>couple with children</td>\n",
              "    </tr>\n",
              "    <tr>\n",
              "      <th>654</th>\n",
              "      <td>005931D1-702B-11e9-82F4-005056981C55</td>\n",
              "      <td>Individual</td>\n",
              "      <td>Active</td>\n",
              "      <td>Tambaram</td>\n",
              "      <td>TAMIL NADU</td>\n",
              "      <td>600100.0</td>\n",
              "      <td>MALE</td>\n",
              "      <td>16-Jun-87</td>\n",
              "      <td>M</td>\n",
              "      <td>7-May-19</td>\n",
              "      <td>Couple without children</td>\n",
              "    </tr>\n",
              "    <tr>\n",
              "      <th>34</th>\n",
              "      <td>0001F6F2-9FE7-11e8-9E9C-00505682069A</td>\n",
              "      <td>Individual</td>\n",
              "      <td>Active</td>\n",
              "      <td>Secunderabad</td>\n",
              "      <td>TELANGANA</td>\n",
              "      <td>500072.0</td>\n",
              "      <td>MALE</td>\n",
              "      <td>19-Jun-83</td>\n",
              "      <td>M</td>\n",
              "      <td>15-Aug-18</td>\n",
              "      <td>couple with children</td>\n",
              "    </tr>\n",
              "  </tbody>\n",
              "</table>\n",
              "</div>"
            ],
            "text/plain": [
              "                                  Column1  ...            Living status\n",
              "8    0001F548-9FE7-11e8-9E9C-00505682069A  ...     couple with children\n",
              "9    0001F549-9FE7-11e8-9E9C-00505682069A  ...     couple with children\n",
              "654  005931D1-702B-11e9-82F4-005056981C55  ...  Couple without children\n",
              "34   0001F6F2-9FE7-11e8-9E9C-00505682069A  ...     couple with children\n",
              "\n",
              "[4 rows x 11 columns]"
            ]
          },
          "metadata": {
            "tags": []
          },
          "execution_count": 53
        }
      ]
    },
    {
      "cell_type": "code",
      "metadata": {
        "id": "UcR7nyurizIf"
      },
      "source": [
        "import matplotlib.pyplot as plt\n",
        "import numpy as np\n",
        "%matplotlib inline"
      ],
      "execution_count": null,
      "outputs": []
    },
    {
      "cell_type": "code",
      "metadata": {
        "id": "dGRA2Tvni1GK"
      },
      "source": [
        "#easy may\n",
        "y = [10,20,30,40,50,60]\n",
        "x = [11,12,13,14,15,16]\n",
        "plt.plot(x,y)"
      ],
      "execution_count": null,
      "outputs": []
    },
    {
      "cell_type": "code",
      "metadata": {
        "id": "ey8kGKEMi2S3"
      },
      "source": [
        "%matplotlib inline\n",
        "import matplotlib.pyplot as plt\n",
        "\n",
        "x = [1,2,3,4,5]\n",
        "y = [11,22,33,44,55]\n",
        "fig,ax = plt.subplots(figsize=(5,6))\n",
        "ax.plot(x,y)\n",
        "\n",
        "ax.set(title = \"Simple Plot\",\n",
        "     xlabel=\"x-axis\",\n",
        "    ylabel=\"y-axis\")\n",
        "plt.savefig('figures/samle-plot.png')"
      ],
      "execution_count": null,
      "outputs": []
    },
    {
      "cell_type": "code",
      "metadata": {
        "id": "LrmXGrBGi8S3"
      },
      "source": [
        "data_miss = pd.read_csv(\"C:\\\\Users\\\\User\\\\Desktop\\\\spv\\\\student.csv\")\n",
        "data_miss"
      ],
      "execution_count": null,
      "outputs": []
    },
    {
      "cell_type": "code",
      "metadata": {
        "id": "9EIbf3nki-y_"
      },
      "source": [
        "data_miss[\"Total Age\"]=data_miss[\"Age\"].cumsum().astype(int)\n",
        "data_miss"
      ],
      "execution_count": null,
      "outputs": []
    },
    {
      "cell_type": "code",
      "metadata": {
        "id": "X1zSuvjhjCTj"
      },
      "source": [
        "fig,ax=plt.subplots(figsize=(5,4))\n",
        "ax.scatter(x,np.exp(x))"
      ],
      "execution_count": null,
      "outputs": []
    },
    {
      "cell_type": "code",
      "metadata": {
        "id": "IZfC3rzYjDtM"
      },
      "source": [
        "fig,ax=plt.subplots(figsize=(5,4))\n",
        "plt.scatter(x,np.exp(x))"
      ],
      "execution_count": null,
      "outputs": []
    },
    {
      "cell_type": "code",
      "metadata": {
        "id": "ke3hDqqAjG9-"
      },
      "source": [
        "x=np.linspace(0,10,100)\n",
        "x[:30]"
      ],
      "execution_count": null,
      "outputs": []
    },
    {
      "cell_type": "code",
      "metadata": {
        "id": "wjosUsxUjKKK"
      },
      "source": [
        "#sign function\n",
        "fig,ax=plt.subplots(figsize=(4,5))\n",
        "plt.scatter(x,np.sin(x))"
      ],
      "execution_count": null,
      "outputs": []
    },
    {
      "cell_type": "code",
      "metadata": {
        "id": "1-4ZQNjsjNvk"
      },
      "source": [
        "#bar plot\n",
        "nut_butter_price={\"Almond Butter\":10,\n",
        "                 \"Peanut Butter\":20,\n",
        "                 \"Cashew Butter\":15}\n",
        "fig,ax=plt.subplots(figsize=(5,6))\n",
        "ax.bar(nut_butter_price.keys(),nut_butter_price.values());\n",
        "ax.set(title=\"Dan's Nut Butter\",\n",
        "      ylabel=\"Price ($)\")"
      ],
      "execution_count": null,
      "outputs": []
    },
    {
      "cell_type": "code",
      "metadata": {
        "id": "nR9QtrLkjR4n"
      },
      "source": [
        "fig,ax=plt.subplots(figsize=(5,4))\n",
        "ax.barh(list(nut_butter_price.keys()),list(nut_butter_price.values()))"
      ],
      "execution_count": null,
      "outputs": []
    },
    {
      "cell_type": "code",
      "metadata": {
        "id": "ML2RGGxAjTKc"
      },
      "source": [
        "#histogram\n",
        "x=np.random.random(1000)\n",
        "fig,ax=plt.subplots(figsize=(4,4))\n",
        "ax.hist(x)"
      ],
      "execution_count": null,
      "outputs": []
    }
  ]
}